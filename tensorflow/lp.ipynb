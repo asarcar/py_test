{
 "cells": [
  {
   "cell_type": "code",
   "execution_count": 0,
   "metadata": {
    "autoscroll": "json-false",
    "collapsed": false,
    "ein.tags": [
     "worksheet-0"
    ],
    "slideshow": {
     "slide_type": "-"
    }
   },
   "outputs": [],
   "source": [
    "import tensorflow as tf\n",
    "import numpy as np\n",
    "import matplotlib.pyplot as plt\n",
    "n_samples = 1000\n",
    "n_step        = 0.1\n",
    "batch_size = 100\n",
    "n_loops      = 1000\n",
    "\n",
    "X_data = np.arange(n_samples*n_step, step=n_step)\n",
    "Y_data = X_data + 20*np.sin(X_data/10)\n",
    "\n",
    "# Tensor does not accept (1000,) but (1000,1)\n",
    "X_data = np.reshape(X_data,(n_samples,1))\n",
    "Y_data = np.reshape(Y_data,(n_samples,1))\n",
    "\n",
    "# Input\n",
    "X = tf.placeholder(tf.float32,shape=(batch_size,1))\n",
    "Y = tf.placeholder(tf.float32,shape=(batch_size,1))\n",
    "\n",
    "with tf.variable_scope(\"linear-regression\"):\n",
    "    W = tf.get_variable(\"weights\",(1,1),initializer=tf.random_normal_initializer())\n",
    "    b = tf.get_variable(\"bias\",(1,),initializer=tf.constant_initializer(0.0))\n",
    "    def tfmodel(X, W, b):\n",
    "        return tf.add(tf.matmul(X,W),b)\n",
    "    # Y_pred = tf.matmul(X,W)+b\n",
    "    # Y_pred = tf.add(tf.matmul(X,W),b)\n",
    "    Y_pred = tfmodel(X, W, b)\n",
    "    loss = tf.reduce_sum((Y-Y_pred)**2/batch_size)\n",
    "\n",
    "    \n",
    "opt = tf.train.AdamOptimizer()\n",
    "opt_operation = opt.minimize(loss)\n",
    "\n",
    "init = tf.initialize_all_variables()\n",
    "\n",
    "with tf.Session() as s:\n",
    "    s.run(init)\n",
    "    \n",
    "    for _ in range(n_loops):\n",
    "        indices = np.random.choice(n_samples,batch_size)\n",
    "        X_batch, Y_batch = X_data[indices], Y_data[indices]\n",
    "        # Gradient Descent\n",
    "        _, loss_val = s.run([opt_operation, loss],feed_dict={X:X_batch,Y:Y_batch})\n",
    "\n",
    "    plt.plot(X_data,Y_data,'ro',label='Original Data')\n",
    "    wt = s.run(W)\n",
    "    bias = s.run(b)\n",
    "    print(\"Wt={0} & Bias={1}\".format(wt,bias))\n",
    "    plt.plot(X_data, wt*X_data + bias,label='Fitted Line')\n",
    "    plt.legend()\n",
    "    plt.show()"
   ]
  }
 ],
 "metadata": {
  "kernelspec": {
   "display_name": "Python 3",
   "name": "python3"
  },
  "name": "lp.ipynb"
 },
 "nbformat": 4,
 "nbformat_minor": 1
}
